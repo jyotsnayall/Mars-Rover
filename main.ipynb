{
 "cells": [
  {
   "cell_type": "code",
   "execution_count": 23,
   "id": "ef77666e",
   "metadata": {},
   "outputs": [],
   "source": [
    "import nasapy\n",
    "import random, os\n",
    "import tweepy\n",
    "import requests\n",
    "import urllib.request"
   ]
  },
  {
   "cell_type": "code",
   "execution_count": 24,
   "id": "cb522436",
   "metadata": {},
   "outputs": [],
   "source": [
    "# Checks if directory for saving images to exists, creates one if not\n",
    "image_dir = \"./Astro_Images\"\n",
    "dir_res = os.path.exists(image_dir)\n",
    "if dir_res is False:\n",
    "    os.makedirs(image_dir)"
   ]
  },
  {
   "cell_type": "code",
   "execution_count": 25,
   "id": "8242f951",
   "metadata": {},
   "outputs": [],
   "source": [
    "rover = random.choice([\"curiosity\", \"opportunity\", \"spirit\", \"perseverance\"])"
   ]
  },
  {
   "cell_type": "code",
   "execution_count": 27,
   "id": "123878cb",
   "metadata": {},
   "outputs": [],
   "source": [
    "if rover == \"curiosity\" or rover == \"opportunity\" or rover == \"spirit\":\n",
    "    sol_1 = random.randrange(2001)\n",
    "    nasa = nasapy.Nasa(key=\"UIOCMmvPrO9PD31AWSu7z1gQsPQoWCdVtyxVpQiW\")\n",
    "    camera_1 = random.choice([\"FHAZ\", \"RHAZ\", \"NAVCAM\"])\n",
    "    roverpic = nasa.mars_rover(sol=sol_1, camera=camera_1, rover=rover)\n",
    "    title = \"sol_\" + str(sol_1) + \"_\" + rover + \"_\" + camera_1 + \".jpg\"\n",
    "    \n",
    "    if len(roverpic) == 0:\n",
    "        tweet = \"No image from \" + rover + \" \" + camera_1 + \" available from sol \" + str(sol_1)\n",
    "        status = api.update_status(status=tweet)\n",
    "    else:\n",
    "        random_pic = random.choice(roverpic)\n",
    "        index = roverpic.index(random_pic)\n",
    "        urllib.request.urlretrieve(roverpic[index][\"img_src\"],filename = os.path.join(image_dir, title))\n",
    "        image = api.media_upload(filename=os.path.join(image_dir,title))\n",
    "        tweet = \"Taken by \" + roverpic[index][\"rover\"][\"name\"] + \" on \" + roverpic[index][\"earth_date\"] + \" with \" + roverpic[index][\"camera\"][\"full_name\"]\n",
    "        status = api.update_status(status=tweet, media_ids=[image.media_id])"
   ]
  },
  {
   "cell_type": "code",
   "execution_count": null,
   "id": "7f565eae",
   "metadata": {},
   "outputs": [],
   "source": []
  },
  {
   "cell_type": "code",
   "execution_count": null,
   "id": "a7aa01f3",
   "metadata": {},
   "outputs": [],
   "source": []
  },
  {
   "cell_type": "code",
   "execution_count": null,
   "id": "7c44373b",
   "metadata": {},
   "outputs": [],
   "source": []
  }
 ],
 "metadata": {
  "kernelspec": {
   "display_name": "Python 3 (ipykernel)",
   "language": "python",
   "name": "python3"
  },
  "language_info": {
   "codemirror_mode": {
    "name": "ipython",
    "version": 3
   },
   "file_extension": ".py",
   "mimetype": "text/x-python",
   "name": "python",
   "nbconvert_exporter": "python",
   "pygments_lexer": "ipython3",
   "version": "3.9.7"
  }
 },
 "nbformat": 4,
 "nbformat_minor": 5
}
